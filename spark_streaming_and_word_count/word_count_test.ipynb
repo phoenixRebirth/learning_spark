{
 "cells": [
  {
   "cell_type": "code",
   "execution_count": 1,
   "metadata": {
    "collapsed": true
   },
   "outputs": [],
   "source": [
    "from pyspark.sql import SparkSession"
   ]
  },
  {
   "cell_type": "code",
   "execution_count": 2,
   "metadata": {
    "collapsed": true
   },
   "outputs": [],
   "source": [
    "# Create a SparkSession \n",
    "spark = SparkSession.builder.appName(\"LinearRegression\").getOrCreate()"
   ]
  },
  {
   "cell_type": "code",
   "execution_count": 3,
   "metadata": {
    "collapsed": false
   },
   "outputs": [
    {
     "data": {
      "text/plain": [
       "['',\n",
       " '',\n",
       " 'colin colin colin',\n",
       " 'christophe christophe                                               [ salut salut',\n",
       " 'hello hello',\n",
       " 'salut salut',\n",
       " 'hello hello',\n",
       " 'salut salut',\n",
       " 'hello hello',\n",
       " 'salut salut',\n",
       " 'hello hellosalut salut',\n",
       " 'hello hellosalut salut',\n",
       " 'hello hello',\n",
       " 'salut salut ',\n",
       " 'hello',\n",
       " 'hello',\n",
       " 'hello',\n",
       " 'hello',\n",
       " 'colin colin colin',\n",
       " 'christophe christophe',\n",
       " '']"
      ]
     },
     "execution_count": 3,
     "metadata": {},
     "output_type": "execute_result"
    }
   ],
   "source": [
    "inputLines = spark.sparkContext.textFile(\"/home/jovyan/work/words.txt\")\n",
    "inputLines.take(30)"
   ]
  },
  {
   "cell_type": "code",
   "execution_count": 4,
   "metadata": {
    "collapsed": true
   },
   "outputs": [],
   "source": [
    "splitedInputLines = inputLines.map(lambda x: x.split())"
   ]
  },
  {
   "cell_type": "code",
   "execution_count": 5,
   "metadata": {
    "collapsed": false
   },
   "outputs": [
    {
     "data": {
      "text/plain": [
       "[[],\n",
       " [],\n",
       " ['colin', 'colin', 'colin'],\n",
       " ['christophe', 'christophe', '[', 'salut', 'salut'],\n",
       " ['hello', 'hello'],\n",
       " ['salut', 'salut'],\n",
       " ['hello', 'hello'],\n",
       " ['salut', 'salut'],\n",
       " ['hello', 'hello'],\n",
       " ['salut', 'salut']]"
      ]
     },
     "execution_count": 5,
     "metadata": {},
     "output_type": "execute_result"
    }
   ],
   "source": [
    "splitedInputLines.take(10)"
   ]
  },
  {
   "cell_type": "code",
   "execution_count": 6,
   "metadata": {
    "collapsed": false
   },
   "outputs": [],
   "source": [
    "splitedFlattedInputLines = inputLines.flatMap(lambda x: x.split())"
   ]
  },
  {
   "cell_type": "code",
   "execution_count": 7,
   "metadata": {
    "collapsed": false
   },
   "outputs": [
    {
     "data": {
      "text/plain": [
       "['colin',\n",
       " 'colin',\n",
       " 'colin',\n",
       " 'christophe',\n",
       " 'christophe',\n",
       " '[',\n",
       " 'salut',\n",
       " 'salut',\n",
       " 'hello',\n",
       " 'hello',\n",
       " 'salut',\n",
       " 'salut',\n",
       " 'hello',\n",
       " 'hello',\n",
       " 'salut',\n",
       " 'salut',\n",
       " 'hello',\n",
       " 'hello',\n",
       " 'salut',\n",
       " 'salut',\n",
       " 'hello',\n",
       " 'hellosalut',\n",
       " 'salut',\n",
       " 'hello',\n",
       " 'hellosalut',\n",
       " 'salut',\n",
       " 'hello',\n",
       " 'hello',\n",
       " 'salut',\n",
       " 'salut',\n",
       " 'hello',\n",
       " 'hello',\n",
       " 'hello',\n",
       " 'hello',\n",
       " 'colin',\n",
       " 'colin',\n",
       " 'colin',\n",
       " 'christophe',\n",
       " 'christophe']"
      ]
     },
     "execution_count": 7,
     "metadata": {},
     "output_type": "execute_result"
    }
   ],
   "source": [
    "splitedFlattedInputLines.take(50)"
   ]
  },
  {
   "cell_type": "code",
   "execution_count": 8,
   "metadata": {
    "collapsed": false
   },
   "outputs": [],
   "source": [
    "wordCount = splitedFlattedInputLines.map(lambda x : (x,1)).reduceByKey(lambda x, y: x + y)"
   ]
  },
  {
   "cell_type": "code",
   "execution_count": 9,
   "metadata": {
    "collapsed": false
   },
   "outputs": [
    {
     "data": {
      "text/plain": [
       "[('[', 1),\n",
       " ('hellosalut', 2),\n",
       " ('colin', 6),\n",
       " ('christophe', 4),\n",
       " ('hello', 14),\n",
       " ('salut', 12)]"
      ]
     },
     "execution_count": 9,
     "metadata": {},
     "output_type": "execute_result"
    }
   ],
   "source": [
    "wordCount.take(10)"
   ]
  }
 ],
 "metadata": {
  "kernelspec": {
   "display_name": "Python 3",
   "language": "python",
   "name": "python3"
  },
  "language_info": {
   "codemirror_mode": {
    "name": "ipython",
    "version": 3
   },
   "file_extension": ".py",
   "mimetype": "text/x-python",
   "name": "python",
   "nbconvert_exporter": "python",
   "pygments_lexer": "ipython3",
   "version": "3.5.2"
  }
 },
 "nbformat": 4,
 "nbformat_minor": 2
}
