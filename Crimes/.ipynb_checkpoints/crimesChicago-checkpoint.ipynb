{
 "cells": [
  {
   "cell_type": "code",
   "execution_count": 1,
   "metadata": {
    "collapsed": true,
    "deletable": true,
    "editable": true
   },
   "outputs": [],
   "source": [
    "from pyspark import SparkContext,SparkConf\n",
    "conf = SparkConf().setMaster(\"local\").setAppName(\"Crimes\")\n",
    "sc = SparkContext(conf = conf)"
   ]
  },
  {
   "cell_type": "code",
   "execution_count": 2,
   "metadata": {
    "collapsed": false,
    "deletable": true,
    "editable": true
   },
   "outputs": [
    {
     "data": {
      "text/plain": [
       "['ID,Case Number,Date,Block,IUCR,Primary Type,Description,Location Description,Arrest,Domestic,Beat,District,Ward,Community Area,FBI Code,X Coordinate,Y Coordinate,Year,Updated On,Latitude,Longitude,Location',\n",
       " '10508593,HZ250410,05/03/2016 09:00:00 PM,042XX W MADISON ST,1811,NARCOTICS,POSS: CANNABIS 30GMS OR LESS,SIDEWALK,true,false,1115,011,28,26,18,1148220,1899677,2016,05/10/2016 03:56:50 PM,41.880658176,-87.731212135,\"(41.880658176, -87.731212135)\"',\n",
       " '10508594,HZ250385,05/03/2016 09:35:00 PM,065XX S KEDVALE AVE,0810,THEFT,OVER $500,APARTMENT,false,true,0833,008,13,65,06,1149830,1860872,2016,05/10/2016 03:56:50 PM,41.77414081,-87.726307093,\"(41.77414081, -87.726307093)\"',\n",
       " '10508595,HZ250362,05/03/2016 02:45:00 PM,045XX S DAMEN AVE,0560,ASSAULT,SIMPLE,STREET,false,true,0924,009,12,61,08A,1163662,1874660,2016,05/10/2016 03:56:50 PM,41.811697721,-87.675214316,\"(41.811697721, -87.675214316)\"',\n",
       " '10508597,HZ250202,05/03/2016 06:42:00 PM,063XX S CLAREMONT AVE,0486,BATTERY,DOMESTIC BATTERY SIMPLE,SIDEWALK,false,true,0825,008,15,66,08B,1161829,1862607,2016,05/10/2016 03:56:50 PM,41.778661058,-87.68227253,\"(41.778661058, -87.68227253)\"',\n",
       " '10508598,HZ250298,05/03/2016 03:00:00 PM,070XX S INDIANA AVE,0320,ROBBERY,STRONGARM - NO WEAPON,SIDEWALK,false,false,0322,003,6,69,03,1178808,1858478,2016,05/10/2016 03:56:50 PM,41.766961034,-87.620152116,\"(41.766961034, -87.620152116)\"',\n",
       " '10508599,HZ250438,05/03/2016 10:02:00 PM,0000X N HOMAN BLVD,4625,OTHER OFFENSE,PAROLE VIOLATION,STREET,true,false,1123,011,28,27,26,1153709,1900237,2016,05/10/2016 03:56:50 PM,41.882087429,-87.711041964,\"(41.882087429, -87.711041964)\"',\n",
       " '10508600,HZ250443,05/03/2016 03:30:00 PM,004XX S HAMLIN BLVD,0560,ASSAULT,SIMPLE,SIDEWALK,false,false,1133,011,24,26,08A,1151172,1897587,2016,05/10/2016 03:56:50 PM,41.874865643,-87.720427367,\"(41.874865643, -87.720427367)\"',\n",
       " '10508602,HZ250374,05/03/2016 09:09:00 PM,062XX S MICHIGAN AVE,0820,THEFT,$500 AND UNDER,APARTMENT,true,false,0311,003,20,40,06,1178263,1863570,2016,05/10/2016 03:56:50 PM,41.780946398,-87.621995369,\"(41.780946398, -87.621995369)\"',\n",
       " '10508603,HZ250430,05/03/2016 09:42:00 PM,060XX S EBERHART AVE,2029,NARCOTICS,POSS: HEROIN(BLACK TAR),SIDEWALK,true,false,0313,003,20,42,18,1180634,1865037,2016,05/10/2016 03:56:50 PM,41.784917834,-87.613257846,\"(41.784917834, -87.613257846)\"']"
      ]
     },
     "execution_count": 2,
     "metadata": {},
     "output_type": "execute_result"
    }
   ],
   "source": [
    "# u.data \n",
    "lines = sc.textFile(\"/home/jovyan/work/Crimes/crimes.csv\")\n",
    "lines.take(10)"
   ]
  },
  {
   "cell_type": "code",
   "execution_count": 3,
   "metadata": {
    "collapsed": false,
    "deletable": true,
    "editable": true
   },
   "outputs": [
    {
     "data": {
      "text/plain": [
       "[['ID',\n",
       "  'Case Number',\n",
       "  'Date',\n",
       "  'Block',\n",
       "  'IUCR',\n",
       "  'Primary Type',\n",
       "  'Description',\n",
       "  'Location Description',\n",
       "  'Arrest',\n",
       "  'Domestic',\n",
       "  'Beat',\n",
       "  'District',\n",
       "  'Ward',\n",
       "  'Community Area',\n",
       "  'FBI Code',\n",
       "  'X Coordinate',\n",
       "  'Y Coordinate',\n",
       "  'Year',\n",
       "  'Updated On',\n",
       "  'Latitude',\n",
       "  'Longitude',\n",
       "  'Location'],\n",
       " ['10508593',\n",
       "  'HZ250410',\n",
       "  '05/03/2016 09:00:00 PM',\n",
       "  '042XX W MADISON ST',\n",
       "  '1811',\n",
       "  'NARCOTICS',\n",
       "  'POSS: CANNABIS 30GMS OR LESS',\n",
       "  'SIDEWALK',\n",
       "  'true',\n",
       "  'false',\n",
       "  '1115',\n",
       "  '011',\n",
       "  '28',\n",
       "  '26',\n",
       "  '18',\n",
       "  '1148220',\n",
       "  '1899677',\n",
       "  '2016',\n",
       "  '05/10/2016 03:56:50 PM',\n",
       "  '41.880658176',\n",
       "  '-87.731212135',\n",
       "  '\"(41.880658176',\n",
       "  ' -87.731212135)\"'],\n",
       " ['10508594',\n",
       "  'HZ250385',\n",
       "  '05/03/2016 09:35:00 PM',\n",
       "  '065XX S KEDVALE AVE',\n",
       "  '0810',\n",
       "  'THEFT',\n",
       "  'OVER $500',\n",
       "  'APARTMENT',\n",
       "  'false',\n",
       "  'true',\n",
       "  '0833',\n",
       "  '008',\n",
       "  '13',\n",
       "  '65',\n",
       "  '06',\n",
       "  '1149830',\n",
       "  '1860872',\n",
       "  '2016',\n",
       "  '05/10/2016 03:56:50 PM',\n",
       "  '41.77414081',\n",
       "  '-87.726307093',\n",
       "  '\"(41.77414081',\n",
       "  ' -87.726307093)\"'],\n",
       " ['10508595',\n",
       "  'HZ250362',\n",
       "  '05/03/2016 02:45:00 PM',\n",
       "  '045XX S DAMEN AVE',\n",
       "  '0560',\n",
       "  'ASSAULT',\n",
       "  'SIMPLE',\n",
       "  'STREET',\n",
       "  'false',\n",
       "  'true',\n",
       "  '0924',\n",
       "  '009',\n",
       "  '12',\n",
       "  '61',\n",
       "  '08A',\n",
       "  '1163662',\n",
       "  '1874660',\n",
       "  '2016',\n",
       "  '05/10/2016 03:56:50 PM',\n",
       "  '41.811697721',\n",
       "  '-87.675214316',\n",
       "  '\"(41.811697721',\n",
       "  ' -87.675214316)\"'],\n",
       " ['10508597',\n",
       "  'HZ250202',\n",
       "  '05/03/2016 06:42:00 PM',\n",
       "  '063XX S CLAREMONT AVE',\n",
       "  '0486',\n",
       "  'BATTERY',\n",
       "  'DOMESTIC BATTERY SIMPLE',\n",
       "  'SIDEWALK',\n",
       "  'false',\n",
       "  'true',\n",
       "  '0825',\n",
       "  '008',\n",
       "  '15',\n",
       "  '66',\n",
       "  '08B',\n",
       "  '1161829',\n",
       "  '1862607',\n",
       "  '2016',\n",
       "  '05/10/2016 03:56:50 PM',\n",
       "  '41.778661058',\n",
       "  '-87.68227253',\n",
       "  '\"(41.778661058',\n",
       "  ' -87.68227253)\"'],\n",
       " ['10508598',\n",
       "  'HZ250298',\n",
       "  '05/03/2016 03:00:00 PM',\n",
       "  '070XX S INDIANA AVE',\n",
       "  '0320',\n",
       "  'ROBBERY',\n",
       "  'STRONGARM - NO WEAPON',\n",
       "  'SIDEWALK',\n",
       "  'false',\n",
       "  'false',\n",
       "  '0322',\n",
       "  '003',\n",
       "  '6',\n",
       "  '69',\n",
       "  '03',\n",
       "  '1178808',\n",
       "  '1858478',\n",
       "  '2016',\n",
       "  '05/10/2016 03:56:50 PM',\n",
       "  '41.766961034',\n",
       "  '-87.620152116',\n",
       "  '\"(41.766961034',\n",
       "  ' -87.620152116)\"'],\n",
       " ['10508599',\n",
       "  'HZ250438',\n",
       "  '05/03/2016 10:02:00 PM',\n",
       "  '0000X N HOMAN BLVD',\n",
       "  '4625',\n",
       "  'OTHER OFFENSE',\n",
       "  'PAROLE VIOLATION',\n",
       "  'STREET',\n",
       "  'true',\n",
       "  'false',\n",
       "  '1123',\n",
       "  '011',\n",
       "  '28',\n",
       "  '27',\n",
       "  '26',\n",
       "  '1153709',\n",
       "  '1900237',\n",
       "  '2016',\n",
       "  '05/10/2016 03:56:50 PM',\n",
       "  '41.882087429',\n",
       "  '-87.711041964',\n",
       "  '\"(41.882087429',\n",
       "  ' -87.711041964)\"'],\n",
       " ['10508600',\n",
       "  'HZ250443',\n",
       "  '05/03/2016 03:30:00 PM',\n",
       "  '004XX S HAMLIN BLVD',\n",
       "  '0560',\n",
       "  'ASSAULT',\n",
       "  'SIMPLE',\n",
       "  'SIDEWALK',\n",
       "  'false',\n",
       "  'false',\n",
       "  '1133',\n",
       "  '011',\n",
       "  '24',\n",
       "  '26',\n",
       "  '08A',\n",
       "  '1151172',\n",
       "  '1897587',\n",
       "  '2016',\n",
       "  '05/10/2016 03:56:50 PM',\n",
       "  '41.874865643',\n",
       "  '-87.720427367',\n",
       "  '\"(41.874865643',\n",
       "  ' -87.720427367)\"'],\n",
       " ['10508602',\n",
       "  'HZ250374',\n",
       "  '05/03/2016 09:09:00 PM',\n",
       "  '062XX S MICHIGAN AVE',\n",
       "  '0820',\n",
       "  'THEFT',\n",
       "  '$500 AND UNDER',\n",
       "  'APARTMENT',\n",
       "  'true',\n",
       "  'false',\n",
       "  '0311',\n",
       "  '003',\n",
       "  '20',\n",
       "  '40',\n",
       "  '06',\n",
       "  '1178263',\n",
       "  '1863570',\n",
       "  '2016',\n",
       "  '05/10/2016 03:56:50 PM',\n",
       "  '41.780946398',\n",
       "  '-87.621995369',\n",
       "  '\"(41.780946398',\n",
       "  ' -87.621995369)\"'],\n",
       " ['10508603',\n",
       "  'HZ250430',\n",
       "  '05/03/2016 09:42:00 PM',\n",
       "  '060XX S EBERHART AVE',\n",
       "  '2029',\n",
       "  'NARCOTICS',\n",
       "  'POSS: HEROIN(BLACK TAR)',\n",
       "  'SIDEWALK',\n",
       "  'true',\n",
       "  'false',\n",
       "  '0313',\n",
       "  '003',\n",
       "  '20',\n",
       "  '42',\n",
       "  '18',\n",
       "  '1180634',\n",
       "  '1865037',\n",
       "  '2016',\n",
       "  '05/10/2016 03:56:50 PM',\n",
       "  '41.784917834',\n",
       "  '-87.613257846',\n",
       "  '\"(41.784917834',\n",
       "  ' -87.613257846)\"']]"
      ]
     },
     "execution_count": 3,
     "metadata": {},
     "output_type": "execute_result"
    }
   ],
   "source": [
    "dataset = lines.map(lambda x: x.split(','))\n",
    "dataset.take(10)"
   ]
  },
  {
   "cell_type": "code",
   "execution_count": 4,
   "metadata": {
    "collapsed": false,
    "deletable": true,
    "editable": true
   },
   "outputs": [
    {
     "data": {
      "text/plain": [
       "['ID',\n",
       " 'Case Number',\n",
       " 'Date',\n",
       " 'Block',\n",
       " 'IUCR',\n",
       " 'Primary Type',\n",
       " 'Description',\n",
       " 'Location Description',\n",
       " 'Arrest',\n",
       " 'Domestic',\n",
       " 'Beat',\n",
       " 'District',\n",
       " 'Ward',\n",
       " 'Community Area',\n",
       " 'FBI Code',\n",
       " 'X Coordinate',\n",
       " 'Y Coordinate',\n",
       " 'Year',\n",
       " 'Updated On',\n",
       " 'Latitude',\n",
       " 'Longitude',\n",
       " 'Location']"
      ]
     },
     "execution_count": 4,
     "metadata": {},
     "output_type": "execute_result"
    }
   ],
   "source": [
    "columns = dataset.first()\n",
    "columns"
   ]
  },
  {
   "cell_type": "code",
   "execution_count": null,
   "metadata": {
    "collapsed": true,
    "deletable": true,
    "editable": true
   },
   "outputs": [],
   "source": [
    "# tu veux que tes lignes soient différentes de ta première ligne\n",
    "dataset = dataset.filter(lambda x : x != columns)"
   ]
  },
  {
   "cell_type": "code",
   "execution_count": null,
   "metadata": {
    "collapsed": true,
    "deletable": true,
    "editable": true
   },
   "outputs": [],
   "source": [
    "# calcul du nombre de crimes  par année\n",
    "# crimesByYear = dataset.map(lambda x : (x[17],1)).reduceByKey(lambda x, y : x + y)"
   ]
  },
  {
   "cell_type": "code",
   "execution_count": null,
   "metadata": {
    "collapsed": true,
    "deletable": true,
    "editable": true
   },
   "outputs": [],
   "source": [
    "# for result in crimesByYear.collect():\n",
    "#    print(result)"
   ]
  },
  {
   "cell_type": "code",
   "execution_count": null,
   "metadata": {
    "collapsed": true,
    "deletable": true,
    "editable": true
   },
   "outputs": [],
   "source": [
    "# nombre de crimes par type de crime (Primary Type)\n",
    "crimesByType = dataset.map(lambda x : (x[5],1)).reduceByKey(lambda x, y : x + y)"
   ]
  },
  {
   "cell_type": "code",
   "execution_count": null,
   "metadata": {
    "collapsed": false,
    "deletable": true,
    "editable": true
   },
   "outputs": [],
   "source": [
    "for result in crimesByType.collect():\n",
    "    print(result)"
   ]
  },
  {
   "cell_type": "code",
   "execution_count": null,
   "metadata": {
    "collapsed": false,
    "deletable": true,
    "editable": true
   },
   "outputs": [],
   "source": [
    "crimesWithVehicle = dataset.filter(lambda x : ('VEHICLE' in x[5]) or ('VEHICLE' in x[6]))\n",
    "crimesWithVehicle.count()"
   ]
  },
  {
   "cell_type": "code",
   "execution_count": null,
   "metadata": {
    "collapsed": false,
    "deletable": true,
    "editable": true
   },
   "outputs": [],
   "source": [
    "nbCrimesTypeVehicle = dataset.filter(lambda row : \"VEHICLE\" in (row[5] or row[6]))\n",
    "nbCrimesTypeVehicle.count()"
   ]
  },
  {
   "cell_type": "code",
   "execution_count": null,
   "metadata": {
    "collapsed": false,
    "deletable": true,
    "editable": true
   },
   "outputs": [],
   "source": [
    "# le district avec le plus de crimes  district: row[4]\n",
    "    # 1) le nombre de crimes par district\n",
    "    # 2) le max\n",
    "    \n",
    "crimesByDistrict = dataset.map(lambda row : (row[4],1)).reduceByKey(lambda x, y : x + y)"
   ]
  },
  {
   "cell_type": "code",
   "execution_count": null,
   "metadata": {
    "collapsed": false,
    "deletable": true,
    "editable": true
   },
   "outputs": [],
   "source": [
    "crimesByDistrict.sortBy(lambda x:x[1],False).collect()\n",
    "# donc le district avec le plus de crimes est le district numéro 0486"
   ]
  },
  {
   "cell_type": "code",
   "execution_count": null,
   "metadata": {
    "collapsed": false,
    "deletable": true,
    "editable": true
   },
   "outputs": [],
   "source": [
    "crimesByDistrict2 = dataset.map(lambda row : (row[4],1)).reduceByKey(lambda x, y : x + y)\n"
   ]
  },
  {
   "cell_type": "code",
   "execution_count": null,
   "metadata": {
    "collapsed": false,
    "deletable": true,
    "editable": true
   },
   "outputs": [],
   "source": [
    "crimesByDistrict2.max(lambda x: x[1])"
   ]
  },
  {
   "cell_type": "code",
   "execution_count": null,
   "metadata": {
    "collapsed": true,
    "deletable": true,
    "editable": true
   },
   "outputs": [],
   "source": []
  },
  {
   "cell_type": "code",
   "execution_count": null,
   "metadata": {
    "collapsed": true,
    "deletable": true,
    "editable": true
   },
   "outputs": [],
   "source": []
  },
  {
   "cell_type": "code",
   "execution_count": null,
   "metadata": {
    "collapsed": true,
    "deletable": true,
    "editable": true
   },
   "outputs": [],
   "source": []
  },
  {
   "cell_type": "code",
   "execution_count": null,
   "metadata": {
    "collapsed": true,
    "deletable": true,
    "editable": true
   },
   "outputs": [],
   "source": []
  },
  {
   "cell_type": "code",
   "execution_count": null,
   "metadata": {
    "collapsed": true,
    "deletable": true,
    "editable": true
   },
   "outputs": [],
   "source": []
  },
  {
   "cell_type": "code",
   "execution_count": null,
   "metadata": {
    "collapsed": true,
    "deletable": true,
    "editable": true
   },
   "outputs": [],
   "source": []
  },
  {
   "cell_type": "code",
   "execution_count": null,
   "metadata": {
    "collapsed": true,
    "deletable": true,
    "editable": true
   },
   "outputs": [],
   "source": []
  }
 ],
 "metadata": {
  "kernelspec": {
   "display_name": "Python 3",
   "language": "python",
   "name": "python3"
  },
  "language_info": {
   "codemirror_mode": {
    "name": "ipython",
    "version": 3
   },
   "file_extension": ".py",
   "mimetype": "text/x-python",
   "name": "python",
   "nbconvert_exporter": "python",
   "pygments_lexer": "ipython3",
   "version": "3.5.2"
  }
 },
 "nbformat": 4,
 "nbformat_minor": 2
}
